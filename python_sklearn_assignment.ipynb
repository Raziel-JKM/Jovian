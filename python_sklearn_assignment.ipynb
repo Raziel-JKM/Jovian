{
  "nbformat": 4,
  "nbformat_minor": 5,
  "metadata": {
    "kernelspec": {
      "display_name": "Python 3",
      "language": "python",
      "name": "python3"
    },
    "language_info": {
      "codemirror_mode": {
        "name": "ipython",
        "version": 3
      },
      "file_extension": ".py",
      "mimetype": "text/x-python",
      "name": "python",
      "nbconvert_exporter": "python",
      "pygments_lexer": "ipython3",
      "version": "3.9.5"
    },
    "colab": {
      "name": "python-sklearn-assignment.ipynb",
      "provenance": [],
      "include_colab_link": true
    }
  },
  "cells": [
    {
      "cell_type": "markdown",
      "metadata": {
        "id": "view-in-github",
        "colab_type": "text"
      },
      "source": [
        "<a href=\"https://colab.research.google.com/github/Raziel-JKM/Jovian/blob/main/python_sklearn_assignment.ipynb\" target=\"_parent\"><img src=\"https://colab.research.google.com/assets/colab-badge.svg\" alt=\"Open In Colab\"/></a>"
      ]
    },
    {
      "cell_type": "code",
      "metadata": {
        "id": "allied-israel"
      },
      "source": [
        "# Jovian Commit Essentials\n",
        "# Please retain and execute this cell without modifying the contents for `jovian.commit` to work\n",
        "!pip install jovian --upgrade -q\n",
        "import jovian\n",
        "jovian.set_project('python-sklearn-assignment')\n",
        "jovian.set_colab_id('14q_hIY7vAHHg9s8ZtyDuR6GFdPHXHgzM')"
      ],
      "id": "allied-israel",
      "execution_count": null,
      "outputs": []
    },
    {
      "cell_type": "markdown",
      "metadata": {
        "id": "leading-boundary"
      },
      "source": [
        "# House Price Prediction with Linear Regression\n",
        "\n",
        "![](https://i.imgur.com/3sw1fY9.jpg)\n",
        "\n",
        "In this assignment, you're going to predict the price of a house using information like its location, area, no. of rooms etc. You'll use the dataset from the [House Prices - Advanced Regression Techniques](https://www.kaggle.com/c/house-prices-advanced-regression-techniques) competition on [Kaggle](https://kaggle.com). We'll follow a step-by-step process to train our model:\n",
        "\n",
        "1. Download and explore the data\n",
        "2. Prepare the dataset for training\n",
        "3. Train a linear regression model\n",
        "4. Make predictions and evaluate the model\n",
        "\n",
        "As you go through this notebook, you will find a **???** in certain places. Your job is to replace the **???** with appropriate code or values, to ensure that the notebook runs properly end-to-end and your machine learning model is trained properly without errors. \n",
        "\n",
        "**Guidelines**\n",
        "\n",
        "1. Make sure to run all the code cells in order. Otherwise, you may get errors like `NameError` for undefined variables.\n",
        "2. Do not change variable names, delete cells, or disturb other existing code. It may cause problems during evaluation.\n",
        "3. In some cases, you may need to add some code cells or new statements before or after the line of code containing the **???**. \n",
        "4. Since you'll be using a temporary online service for code execution, save your work by running `jovian.commit` at regular intervals.\n",
        "5. Review the \"Evaluation Criteria\" for the assignment carefully and make sure your submission meets all the criteria.\n",
        "6. Questions marked **(Optional)** will not be considered for evaluation and can be skipped. They are for your learning.\n",
        "7. It's okay to ask for help & discuss ideas on the [community forum](https://jovian.ai/forum/c/zero-to-gbms/gbms-assignment-1/100), but please don't post full working code, to give everyone an opportunity to solve the assignment on their own.\n",
        "\n",
        "\n",
        "**Important Links**:\n",
        "\n",
        "- Make a submission here: https://jovian.ai/learn/machine-learning-with-python-zero-to-gbms/assignment/assignment-1-train-your-first-ml-model\n",
        "- Ask questions, discuss ideas and get help here: https://jovian.ai/forum/c/zero-to-gbms/gbms-assignment-1/100\n",
        "- Review the following notebooks:\n",
        "    - https://jovian.ai/aakashns/python-sklearn-linear-regression\n",
        "    - https://jovian.ai/aakashns/python-sklearn-logistic-regression\n",
        "\n",
        "\n",
        "\n"
      ],
      "id": "leading-boundary"
    },
    {
      "cell_type": "markdown",
      "metadata": {
        "id": "modern-preparation"
      },
      "source": [
        "## How to Run the Code and Save Your Work\n",
        "\n",
        "\n",
        "**Option 1: Running using free online resources (1-click, recommended):** The easiest way to start executing the code is to click the **Run** button at the top of this page and select **Run on Binder**. This will set up a cloud-based Jupyter notebook server and allow you to modify/execute the code.\n",
        "\n",
        "\n",
        "**Option 2: Running on your computer locally:** To run the code on your computer locally, you'll need to set up [Python](https://www.python.org), download the notebook and install the required libraries. Click the **Run** button at the top of this page, select the **Run Locally** option, and follow the instructions.\n",
        "\n",
        "**Saving your work**: You can save a snapshot of the assignment to your [Jovian](https://jovian.ai) profile, so that you can access it later and continue your work. Keep saving your work by running `jovian.commit` from time to time."
      ],
      "id": "modern-preparation"
    },
    {
      "cell_type": "code",
      "metadata": {
        "id": "undefined-commitment"
      },
      "source": [
        "!pip install jovian scikit-learn --upgrade --quiet"
      ],
      "id": "undefined-commitment",
      "execution_count": null,
      "outputs": []
    },
    {
      "cell_type": "code",
      "metadata": {
        "id": "stainless-macintosh"
      },
      "source": [
        "import jovian"
      ],
      "id": "stainless-macintosh",
      "execution_count": null,
      "outputs": []
    },
    {
      "cell_type": "code",
      "metadata": {
        "scrolled": true,
        "id": "external-pitch",
        "outputId": "fe85ab87-c54b-4324-8b9b-8817503593e7"
      },
      "source": [
        "jovian.commit(project='python-sklearn-assignment', privacy='secret')"
      ],
      "id": "external-pitch",
      "execution_count": null,
      "outputs": [
        {
          "output_type": "display_data",
          "data": {
            "application/javascript": [
              "window.require && require([\"base/js/namespace\"],function(Jupyter){Jupyter.notebook.save_checkpoint()})"
            ],
            "text/plain": [
              "<IPython.core.display.Javascript object>"
            ]
          },
          "metadata": {
            "tags": []
          }
        },
        {
          "output_type": "stream",
          "text": [
            "[jovian] Updating notebook \"aakashns/python-sklearn-assignment\" on https://jovian.ai/\u001b[0m\n",
            "[jovian] Committed successfully! https://jovian.ai/aakashns/python-sklearn-assignment\u001b[0m\n"
          ],
          "name": "stdout"
        },
        {
          "output_type": "execute_result",
          "data": {
            "text/plain": [
              "'https://jovian.ai/aakashns/python-sklearn-assignment'"
            ]
          },
          "metadata": {
            "tags": []
          },
          "execution_count": 2
        }
      ]
    },
    {
      "cell_type": "markdown",
      "metadata": {
        "id": "freelance-teaching"
      },
      "source": [
        "Let's begin by installing the required libraries:"
      ],
      "id": "freelance-teaching"
    },
    {
      "cell_type": "code",
      "metadata": {
        "id": "exposed-southwest"
      },
      "source": [
        "!pip install numpy pandas matplotlib seaborn plotly opendatasets jovian --quiet"
      ],
      "id": "exposed-southwest",
      "execution_count": null,
      "outputs": []
    },
    {
      "cell_type": "markdown",
      "metadata": {
        "id": "contrary-inside"
      },
      "source": [
        "## Step 1 - Download and Explore the Data\n",
        "\n",
        "The dataset is available as a ZIP file at the following url:"
      ],
      "id": "contrary-inside"
    },
    {
      "cell_type": "code",
      "metadata": {
        "id": "seasonal-senate"
      },
      "source": [
        "dataset_url = 'https://github.com/JovianML/opendatasets/raw/master/data/house-prices-advanced-regression-techniques.zip'"
      ],
      "id": "seasonal-senate",
      "execution_count": null,
      "outputs": []
    },
    {
      "cell_type": "markdown",
      "metadata": {
        "id": "dried-output"
      },
      "source": [
        "We'll use the `urlretrieve` function from the module [`urllib.request`](https://docs.python.org/3/library/urllib.request.html) to dowload the dataset."
      ],
      "id": "dried-output"
    },
    {
      "cell_type": "code",
      "metadata": {
        "id": "protecting-pasta"
      },
      "source": [
        "from urllib.request import urlretrieve"
      ],
      "id": "protecting-pasta",
      "execution_count": null,
      "outputs": []
    },
    {
      "cell_type": "code",
      "metadata": {
        "id": "vital-large"
      },
      "source": [
        "urlretrieve(dataset_url, 'house-prices.zip')"
      ],
      "id": "vital-large",
      "execution_count": null,
      "outputs": []
    },
    {
      "cell_type": "markdown",
      "metadata": {
        "id": "ancient-cardiff"
      },
      "source": [
        "The file `housing-prices.zip` has been downloaded. Let's unzip it using the [`zipfile`](https://docs.python.org/3/library/zipfile.html) module."
      ],
      "id": "ancient-cardiff"
    },
    {
      "cell_type": "code",
      "metadata": {
        "id": "frequent-orange"
      },
      "source": [
        "from zipfile import ZipFile"
      ],
      "id": "frequent-orange",
      "execution_count": null,
      "outputs": []
    },
    {
      "cell_type": "code",
      "metadata": {
        "id": "stylish-concentration"
      },
      "source": [
        "with ZipFile('house-prices.zip') as f:\n",
        "    f.extractall(path='house-prices')"
      ],
      "id": "stylish-concentration",
      "execution_count": null,
      "outputs": []
    },
    {
      "cell_type": "markdown",
      "metadata": {
        "id": "assumed-auction"
      },
      "source": [
        "The dataset is extracted to the folder `house-prices`. Let's view the contents of the folder using the [`os`](https://docs.python.org/3/library/os.html) module."
      ],
      "id": "assumed-auction"
    },
    {
      "cell_type": "code",
      "metadata": {
        "id": "commercial-float"
      },
      "source": [
        "import os"
      ],
      "id": "commercial-float",
      "execution_count": null,
      "outputs": []
    },
    {
      "cell_type": "code",
      "metadata": {
        "id": "international-england"
      },
      "source": [
        "data_dir = 'house-prices'"
      ],
      "id": "international-england",
      "execution_count": null,
      "outputs": []
    },
    {
      "cell_type": "code",
      "metadata": {
        "id": "fixed-corruption"
      },
      "source": [
        "os.listdir(data_dir)"
      ],
      "id": "fixed-corruption",
      "execution_count": null,
      "outputs": []
    },
    {
      "cell_type": "markdown",
      "metadata": {
        "id": "hindu-tulsa"
      },
      "source": [
        "Use the \"File\" > \"Open\" menu option to browse the contents of each file. You can also check out the [dataset description](https://www.kaggle.com/c/house-prices-advanced-regression-techniques/data) on Kaggle to learn more.\n",
        "\n",
        "We'll use the data in the file `train.csv` for training our model. We can load the for processing using the [Pandas](https://pandas.pydata.org/pandas-docs/stable/user_guide/index.html) library."
      ],
      "id": "hindu-tulsa"
    },
    {
      "cell_type": "code",
      "metadata": {
        "id": "brutal-peter"
      },
      "source": [
        "import pandas as pd\n",
        "pd.options.display.max_columns = 200\n",
        "pd.options.display.max_rows = 200"
      ],
      "id": "brutal-peter",
      "execution_count": null,
      "outputs": []
    },
    {
      "cell_type": "code",
      "metadata": {
        "id": "prepared-simon"
      },
      "source": [
        "train_csv_path = data_dir + '/train.csv'\n",
        "train_csv_path"
      ],
      "id": "prepared-simon",
      "execution_count": null,
      "outputs": []
    },
    {
      "cell_type": "markdown",
      "metadata": {
        "id": "insured-deployment"
      },
      "source": [
        "> **QUESTION 1**: Load the data from the file `train.csv` into a Pandas data frame."
      ],
      "id": "insured-deployment"
    },
    {
      "cell_type": "code",
      "metadata": {
        "id": "collected-witness"
      },
      "source": [
        "prices_df = ???"
      ],
      "id": "collected-witness",
      "execution_count": null,
      "outputs": []
    },
    {
      "cell_type": "code",
      "metadata": {
        "id": "constitutional-concrete"
      },
      "source": [
        "prices_df"
      ],
      "id": "constitutional-concrete",
      "execution_count": null,
      "outputs": []
    },
    {
      "cell_type": "markdown",
      "metadata": {
        "id": "mental-oxide"
      },
      "source": [
        "Let's explore the columns and data types within the dataset."
      ],
      "id": "mental-oxide"
    },
    {
      "cell_type": "code",
      "metadata": {
        "id": "particular-worth"
      },
      "source": [
        "prices_df.info()"
      ],
      "id": "particular-worth",
      "execution_count": null,
      "outputs": []
    },
    {
      "cell_type": "markdown",
      "metadata": {
        "id": "renewable-tomorrow"
      },
      "source": [
        "> **QUESTION 2**: How many rows and columns does the dataset contain? "
      ],
      "id": "renewable-tomorrow"
    },
    {
      "cell_type": "code",
      "metadata": {
        "id": "personalized-honor"
      },
      "source": [
        "n_rows = ???"
      ],
      "id": "personalized-honor",
      "execution_count": null,
      "outputs": []
    },
    {
      "cell_type": "code",
      "metadata": {
        "id": "compound-parish"
      },
      "source": [
        "n_cols = ???"
      ],
      "id": "compound-parish",
      "execution_count": null,
      "outputs": []
    },
    {
      "cell_type": "code",
      "metadata": {
        "id": "instant-providence"
      },
      "source": [
        "print('The dataset contains {} rows and {} columns.'.format(n_rows, n_cols))"
      ],
      "id": "instant-providence",
      "execution_count": null,
      "outputs": []
    },
    {
      "cell_type": "markdown",
      "metadata": {
        "id": "coupled-mayor"
      },
      "source": [
        "> **(OPTIONAL) QUESTION**: Before training the model, you may want to explore and visualize data from the various columns within the dataset, and study their relationship with the price of the house (using scatter plot and correlations). Create some graphs and summarize your insights using the empty cells below."
      ],
      "id": "coupled-mayor"
    },
    {
      "cell_type": "code",
      "metadata": {
        "id": "surface-mother"
      },
      "source": [
        ""
      ],
      "id": "surface-mother",
      "execution_count": null,
      "outputs": []
    },
    {
      "cell_type": "code",
      "metadata": {
        "id": "reduced-sussex"
      },
      "source": [
        ""
      ],
      "id": "reduced-sussex",
      "execution_count": null,
      "outputs": []
    },
    {
      "cell_type": "code",
      "metadata": {
        "id": "stuffed-minnesota"
      },
      "source": [
        ""
      ],
      "id": "stuffed-minnesota",
      "execution_count": null,
      "outputs": []
    },
    {
      "cell_type": "markdown",
      "metadata": {
        "id": "distant-civilian"
      },
      "source": [
        "Let's save our work before continuing."
      ],
      "id": "distant-civilian"
    },
    {
      "cell_type": "code",
      "metadata": {
        "id": "polish-chosen"
      },
      "source": [
        "import jovian"
      ],
      "id": "polish-chosen",
      "execution_count": null,
      "outputs": []
    },
    {
      "cell_type": "code",
      "metadata": {
        "id": "cellular-announcement"
      },
      "source": [
        "jovian.commit()"
      ],
      "id": "cellular-announcement",
      "execution_count": null,
      "outputs": []
    },
    {
      "cell_type": "markdown",
      "metadata": {
        "id": "informative-ceremony"
      },
      "source": [
        "## Step 2 - Prepare the Dataset for Training\n",
        "\n",
        "Before we can train the model, we need to prepare the dataset. Here are the steps we'll follow:\n",
        "\n",
        "1. Identify the input and target column(s) for training the model.\n",
        "2. Identify numeric and categorical input columns.\n",
        "3. [Impute](https://scikit-learn.org/stable/modules/impute.html) (fill) missing values in numeric columns\n",
        "4. [Scale](https://scikit-learn.org/stable/modules/preprocessing.html#scaling-features-to-a-range) values in numeric columns to a $(0,1)$ range.\n",
        "5. [Encode](https://scikit-learn.org/stable/modules/preprocessing.html#encoding-categorical-features) categorical data into one-hot vectors.\n",
        "6. Split the dataset into training and validation sets.\n"
      ],
      "id": "informative-ceremony"
    },
    {
      "cell_type": "markdown",
      "metadata": {
        "id": "amazing-organ"
      },
      "source": [
        "### Identify Inputs and Targets\n",
        "\n",
        "While the dataset contains 81 columns, not all of them are useful for modeling. Note the following:\n",
        "\n",
        "- The first column `Id` is a unique ID for each house and isn't useful for training the model.\n",
        "- The last column `SalePrice` contains the value we need to predict i.e. it's the target column.\n",
        "- Data from all the other columns (except the first and the last column) can be used as inputs to the model.\n",
        " "
      ],
      "id": "amazing-organ"
    },
    {
      "cell_type": "code",
      "metadata": {
        "id": "north-thanksgiving"
      },
      "source": [
        "prices_df"
      ],
      "id": "north-thanksgiving",
      "execution_count": null,
      "outputs": []
    },
    {
      "cell_type": "markdown",
      "metadata": {
        "id": "fatty-regression"
      },
      "source": [
        "> **QUESTION 3**: Create a list `input_cols` of column names containing data that can be used as input to train the model, and identify the target column as the variable `target_col`."
      ],
      "id": "fatty-regression"
    },
    {
      "cell_type": "code",
      "metadata": {
        "id": "august-acquisition"
      },
      "source": [
        "# Identify the input columns (a list of column names)\n",
        "input_cols = [???]"
      ],
      "id": "august-acquisition",
      "execution_count": null,
      "outputs": []
    },
    {
      "cell_type": "code",
      "metadata": {
        "id": "established-actor"
      },
      "source": [
        "# Identify the name of the target column (a single string, not a list)\n",
        "target_col = ???"
      ],
      "id": "established-actor",
      "execution_count": null,
      "outputs": []
    },
    {
      "cell_type": "code",
      "metadata": {
        "id": "enhanced-campaign"
      },
      "source": [
        "print(list(input_cols))"
      ],
      "id": "enhanced-campaign",
      "execution_count": null,
      "outputs": []
    },
    {
      "cell_type": "code",
      "metadata": {
        "id": "attractive-variety"
      },
      "source": [
        "len(input_cols)"
      ],
      "id": "attractive-variety",
      "execution_count": null,
      "outputs": []
    },
    {
      "cell_type": "code",
      "metadata": {
        "id": "stock-sunset"
      },
      "source": [
        "print(target_col)"
      ],
      "id": "stock-sunset",
      "execution_count": null,
      "outputs": []
    },
    {
      "cell_type": "markdown",
      "metadata": {
        "id": "loving-border"
      },
      "source": [
        "Make sure that the `Id` and `SalePrice` columns are not included in `input_cols`.\n",
        "\n",
        "Now that we've identified the input and target columns, we can separate input & target data."
      ],
      "id": "loving-border"
    },
    {
      "cell_type": "code",
      "metadata": {
        "id": "labeled-dining"
      },
      "source": [
        "inputs_df = prices_df[input_cols].copy()"
      ],
      "id": "labeled-dining",
      "execution_count": null,
      "outputs": []
    },
    {
      "cell_type": "code",
      "metadata": {
        "id": "divine-madagascar"
      },
      "source": [
        "targets = prices_df[target_col]"
      ],
      "id": "divine-madagascar",
      "execution_count": null,
      "outputs": []
    },
    {
      "cell_type": "code",
      "metadata": {
        "id": "interpreted-cable"
      },
      "source": [
        "inputs_df"
      ],
      "id": "interpreted-cable",
      "execution_count": null,
      "outputs": []
    },
    {
      "cell_type": "code",
      "metadata": {
        "id": "coordinated-islam"
      },
      "source": [
        "targets"
      ],
      "id": "coordinated-islam",
      "execution_count": null,
      "outputs": []
    },
    {
      "cell_type": "markdown",
      "metadata": {
        "id": "following-distributor"
      },
      "source": [
        "Let's save our work before continuing."
      ],
      "id": "following-distributor"
    },
    {
      "cell_type": "code",
      "metadata": {
        "scrolled": true,
        "id": "functional-conclusion"
      },
      "source": [
        "jovian.commit()"
      ],
      "id": "functional-conclusion",
      "execution_count": null,
      "outputs": []
    },
    {
      "cell_type": "markdown",
      "metadata": {
        "id": "unlimited-adjustment"
      },
      "source": [
        "### Identify Numeric and Categorical Data\n",
        "\n",
        "The next step in data preparation is to identify numeric and categorical columns. We can do this by looking at the data type of each column."
      ],
      "id": "unlimited-adjustment"
    },
    {
      "cell_type": "code",
      "metadata": {
        "id": "level-emergency"
      },
      "source": [
        "prices_df.info()"
      ],
      "id": "level-emergency",
      "execution_count": null,
      "outputs": []
    },
    {
      "cell_type": "markdown",
      "metadata": {
        "id": "received-afternoon"
      },
      "source": [
        "> **QUESTION 4**: Crate two lists `numeric_cols` and `categorical_cols` containing names of numeric and categorical input columns within the dataframe respectively. Numeric columns have data types `int64` and `float64`, whereas categorical columns have the data type `object`.\n",
        ">\n",
        "> *Hint*: See this [StackOverflow question](https://stackoverflow.com/questions/25039626/how-do-i-find-numeric-columns-in-pandas). "
      ],
      "id": "received-afternoon"
    },
    {
      "cell_type": "code",
      "metadata": {
        "id": "thirty-symphony"
      },
      "source": [
        "import numpy as np"
      ],
      "id": "thirty-symphony",
      "execution_count": null,
      "outputs": []
    },
    {
      "cell_type": "code",
      "metadata": {
        "id": "unknown-hunger"
      },
      "source": [
        "numeric_cols = inputs_df.select_dtypes(include=['int64', 'float64']).columns.tolist()"
      ],
      "id": "unknown-hunger",
      "execution_count": null,
      "outputs": []
    },
    {
      "cell_type": "code",
      "metadata": {
        "id": "adjusted-token"
      },
      "source": [
        "categorical_cols = ???"
      ],
      "id": "adjusted-token",
      "execution_count": null,
      "outputs": []
    },
    {
      "cell_type": "code",
      "metadata": {
        "id": "compact-spectrum"
      },
      "source": [
        "print(list(numeric_cols))"
      ],
      "id": "compact-spectrum",
      "execution_count": null,
      "outputs": []
    },
    {
      "cell_type": "code",
      "metadata": {
        "id": "sized-minnesota"
      },
      "source": [
        "print(list(categorical_cols))"
      ],
      "id": "sized-minnesota",
      "execution_count": null,
      "outputs": []
    },
    {
      "cell_type": "markdown",
      "metadata": {
        "id": "immediate-small"
      },
      "source": [
        "Let's save our work before continuing."
      ],
      "id": "immediate-small"
    },
    {
      "cell_type": "code",
      "metadata": {
        "scrolled": true,
        "id": "declared-acquisition"
      },
      "source": [
        "jovian.commit()"
      ],
      "id": "declared-acquisition",
      "execution_count": null,
      "outputs": []
    },
    {
      "cell_type": "markdown",
      "metadata": {
        "id": "excellent-organ"
      },
      "source": [
        "### Impute Numerical Data\n",
        "\n",
        "Some of the numeric columns in our dataset contain missing values (`nan`)."
      ],
      "id": "excellent-organ"
    },
    {
      "cell_type": "code",
      "metadata": {
        "id": "animal-spiritual"
      },
      "source": [
        "missing_counts = inputs_df[numeric_cols].isna().sum().sort_values(ascending=False)\n",
        "missing_counts[missing_counts > 0]"
      ],
      "id": "animal-spiritual",
      "execution_count": null,
      "outputs": []
    },
    {
      "cell_type": "markdown",
      "metadata": {
        "id": "separated-personality"
      },
      "source": [
        "Machine learning models can't work with missing data. The process of filling missing values is called [imputation](https://scikit-learn.org/stable/modules/impute.html).\n",
        "\n",
        "<img src=\"https://i.imgur.com/W7cfyOp.png\" width=\"480\">\n",
        "\n",
        "There are several techniques for imputation, but we'll use the most basic one: replacing missing values with the average value in the column using the `SimpleImputer` class from `sklearn.impute`.\n"
      ],
      "id": "separated-personality"
    },
    {
      "cell_type": "code",
      "metadata": {
        "id": "altered-computer"
      },
      "source": [
        "from sklearn.impute import SimpleImputer"
      ],
      "id": "altered-computer",
      "execution_count": null,
      "outputs": []
    },
    {
      "cell_type": "markdown",
      "metadata": {
        "id": "tutorial-animal"
      },
      "source": [
        "> **QUESTION 5**: Impute (fill) missing values in the numeric columns of `inputs_df` using a `SimpleImputer`. \n",
        ">\n",
        "> *Hint*: See [this notebook](https://jovian.ai/aakashns/python-sklearn-logistic-regression/v/66#C88)."
      ],
      "id": "tutorial-animal"
    },
    {
      "cell_type": "code",
      "metadata": {
        "id": "retired-marijuana"
      },
      "source": [
        "# 1. Create the imputer\n",
        "imputer = ???"
      ],
      "id": "retired-marijuana",
      "execution_count": null,
      "outputs": []
    },
    {
      "cell_type": "code",
      "metadata": {
        "id": "decreased-madonna"
      },
      "source": [
        "# 2. Fit the imputer to the numeric colums\n",
        "???"
      ],
      "id": "decreased-madonna",
      "execution_count": null,
      "outputs": []
    },
    {
      "cell_type": "code",
      "metadata": {
        "id": "direct-management"
      },
      "source": [
        "# 3. Transform and replace the numeric columns\n",
        "inputs_df[numeric_cols] = ???"
      ],
      "id": "direct-management",
      "execution_count": null,
      "outputs": []
    },
    {
      "cell_type": "markdown",
      "metadata": {
        "id": "difficult-graduate"
      },
      "source": [
        "After imputation, none of the numeric columns should contain any missing values."
      ],
      "id": "difficult-graduate"
    },
    {
      "cell_type": "code",
      "metadata": {
        "id": "trained-company"
      },
      "source": [
        "missing_counts = inputs_df[numeric_cols].isna().sum().sort_values(ascending=False)\n",
        "missing_counts[missing_counts > 0] # should be an empty list"
      ],
      "id": "trained-company",
      "execution_count": null,
      "outputs": []
    },
    {
      "cell_type": "markdown",
      "metadata": {
        "id": "supported-summer"
      },
      "source": [
        "Let's save our work before continuing."
      ],
      "id": "supported-summer"
    },
    {
      "cell_type": "code",
      "metadata": {
        "scrolled": true,
        "id": "sublime-japanese"
      },
      "source": [
        "jovian.commit()"
      ],
      "id": "sublime-japanese",
      "execution_count": null,
      "outputs": []
    },
    {
      "cell_type": "markdown",
      "metadata": {
        "id": "viral-brand"
      },
      "source": [
        "### Scale Numerical Values\n",
        "\n",
        "The numeric columns in our dataset have varying ranges. "
      ],
      "id": "viral-brand"
    },
    {
      "cell_type": "code",
      "metadata": {
        "id": "detected-caribbean"
      },
      "source": [
        "inputs_df[numeric_cols].describe().loc[['min', 'max']]"
      ],
      "id": "detected-caribbean",
      "execution_count": null,
      "outputs": []
    },
    {
      "cell_type": "markdown",
      "metadata": {
        "id": "short-nudist"
      },
      "source": [
        "A good practice is to [scale numeric features](https://scikit-learn.org/stable/modules/preprocessing.html#scaling-features-to-a-range) to a small range of values e.g. $(0,1)$. Scaling numeric features ensures that no particular feature has a disproportionate impact on the model's loss. Optimization algorithms also work better in practice with smaller numbers.\n"
      ],
      "id": "short-nudist"
    },
    {
      "cell_type": "markdown",
      "metadata": {
        "id": "express-sector"
      },
      "source": [
        "> **QUESTION 6**: Scale numeric values to the $(0, 1)$ range using `MinMaxScaler` from `sklearn.preprocessing`.\n",
        ">\n",
        "> *Hint*: See [this notebook](https://jovian.ai/aakashns/python-sklearn-logistic-regression/v/66#C104)."
      ],
      "id": "express-sector"
    },
    {
      "cell_type": "code",
      "metadata": {
        "id": "induced-christian"
      },
      "source": [
        "from sklearn.preprocessing import MinMaxScaler"
      ],
      "id": "induced-christian",
      "execution_count": null,
      "outputs": []
    },
    {
      "cell_type": "code",
      "metadata": {
        "id": "certified-memphis"
      },
      "source": [
        "# Create the scaler\n",
        "scaler = ???"
      ],
      "id": "certified-memphis",
      "execution_count": null,
      "outputs": []
    },
    {
      "cell_type": "code",
      "metadata": {
        "id": "brown-barrier"
      },
      "source": [
        "# Fit the scaler to the numeric columns\n",
        "???"
      ],
      "id": "brown-barrier",
      "execution_count": null,
      "outputs": []
    },
    {
      "cell_type": "code",
      "metadata": {
        "id": "educational-learning"
      },
      "source": [
        "# Transform and replace the numeric columns\n",
        "inputs_df[numeric_cols] = ???"
      ],
      "id": "educational-learning",
      "execution_count": null,
      "outputs": []
    },
    {
      "cell_type": "markdown",
      "metadata": {
        "id": "insured-iraqi"
      },
      "source": [
        "After scaling, the ranges of all numeric columns should be $(0, 1)$."
      ],
      "id": "insured-iraqi"
    },
    {
      "cell_type": "code",
      "metadata": {
        "id": "sunset-payroll"
      },
      "source": [
        "inputs_df[numeric_cols].describe().loc[['min', 'max']]"
      ],
      "id": "sunset-payroll",
      "execution_count": null,
      "outputs": []
    },
    {
      "cell_type": "markdown",
      "metadata": {
        "id": "successful-congress"
      },
      "source": [
        "Let's save our work before continuing."
      ],
      "id": "successful-congress"
    },
    {
      "cell_type": "code",
      "metadata": {
        "scrolled": true,
        "id": "round-screening"
      },
      "source": [
        "jovian.commit()"
      ],
      "id": "round-screening",
      "execution_count": null,
      "outputs": []
    },
    {
      "cell_type": "markdown",
      "metadata": {
        "id": "unique-result"
      },
      "source": [
        "### Encode Categorical Columns\n",
        "\n",
        "Our dataset contains several categorical columns, each with a different number of categories."
      ],
      "id": "unique-result"
    },
    {
      "cell_type": "code",
      "metadata": {
        "id": "outstanding-violence"
      },
      "source": [
        "inputs_df[categorical_cols].nunique().sort_values(ascending=False)"
      ],
      "id": "outstanding-violence",
      "execution_count": null,
      "outputs": []
    },
    {
      "cell_type": "markdown",
      "metadata": {
        "id": "closed-genesis"
      },
      "source": [
        "\n",
        "\n",
        "Since machine learning models can only be trained with numeric data, we need to convert categorical data to numbers. A common technique is to use one-hot encoding for categorical columns.\n",
        "\n",
        "<img src=\"https://i.imgur.com/n8GuiOO.png\" width=\"640\">\n",
        "\n",
        "One hot encoding involves adding a new binary (0/1) column for each unique category of a categorical column."
      ],
      "id": "closed-genesis"
    },
    {
      "cell_type": "markdown",
      "metadata": {
        "id": "coastal-italic"
      },
      "source": [
        "> **QUESTION 7**: Encode categorical columns in the dataset as one-hot vectors using `OneHotEncoder` from `sklearn.preprocessing`. Add a new binary (0/1) column for each category\n",
        "> \n",
        "> *Hint*: See [this notebook](https://jovian.ai/aakashns/python-sklearn-logistic-regression/v/66#C122)."
      ],
      "id": "coastal-italic"
    },
    {
      "cell_type": "code",
      "metadata": {
        "id": "raised-stockholm"
      },
      "source": [
        "from sklearn.preprocessing import OneHotEncoder"
      ],
      "id": "raised-stockholm",
      "execution_count": null,
      "outputs": []
    },
    {
      "cell_type": "code",
      "metadata": {
        "id": "senior-subscriber"
      },
      "source": [
        "# 1. Create the encoder\n",
        "encoder = OneHotEncoder(sparse=False, handle_unknown='ignore')"
      ],
      "id": "senior-subscriber",
      "execution_count": null,
      "outputs": []
    },
    {
      "cell_type": "code",
      "metadata": {
        "id": "wrapped-stomach"
      },
      "source": [
        "# 2. Fit the encoder to the categorical colums\n",
        "???"
      ],
      "id": "wrapped-stomach",
      "execution_count": null,
      "outputs": []
    },
    {
      "cell_type": "code",
      "metadata": {
        "id": "interested-manor"
      },
      "source": [
        "# 3. Generate column names for each category\n",
        "encoded_cols = list(encoder.get_feature_names(categorical_cols))\n",
        "len(encoded_cols)"
      ],
      "id": "interested-manor",
      "execution_count": null,
      "outputs": []
    },
    {
      "cell_type": "code",
      "metadata": {
        "id": "liberal-network"
      },
      "source": [
        "# 4. Transform and add new one-hot category columns\n",
        "inputs_df[encoded_cols] = ???"
      ],
      "id": "liberal-network",
      "execution_count": null,
      "outputs": []
    },
    {
      "cell_type": "markdown",
      "metadata": {
        "id": "young-cigarette"
      },
      "source": [
        "The new one-hot category columns should now be added to `inputs_df`."
      ],
      "id": "young-cigarette"
    },
    {
      "cell_type": "code",
      "metadata": {
        "id": "eastern-review"
      },
      "source": [
        "inputs_df"
      ],
      "id": "eastern-review",
      "execution_count": null,
      "outputs": []
    },
    {
      "cell_type": "markdown",
      "metadata": {
        "id": "heavy-geology"
      },
      "source": [
        "Let's save our work before continuing."
      ],
      "id": "heavy-geology"
    },
    {
      "cell_type": "code",
      "metadata": {
        "scrolled": true,
        "id": "instructional-outreach"
      },
      "source": [
        "jovian.commit()"
      ],
      "id": "instructional-outreach",
      "execution_count": null,
      "outputs": []
    },
    {
      "cell_type": "markdown",
      "metadata": {
        "id": "improving-finnish"
      },
      "source": [
        "### Training and Validation Set\n",
        "\n",
        "Finally, let's split the dataset into a training and validation set. We'll use a randomly select 25% subset of the data for validation. Also, we'll use just the numeric and encoded columns, since the inputs to our model must be numbers. "
      ],
      "id": "improving-finnish"
    },
    {
      "cell_type": "code",
      "metadata": {
        "id": "efficient-diabetes"
      },
      "source": [
        "from sklearn.model_selection import train_test_split"
      ],
      "id": "efficient-diabetes",
      "execution_count": null,
      "outputs": []
    },
    {
      "cell_type": "code",
      "metadata": {
        "id": "looking-alliance"
      },
      "source": [
        "train_inputs, val_inputs, train_targets, val_targets = train_test_split(inputs_df[numeric_cols + encoded_cols], \n",
        "                                                                        targets, \n",
        "                                                                        test_size=0.25, \n",
        "                                                                        random_state=42)"
      ],
      "id": "looking-alliance",
      "execution_count": null,
      "outputs": []
    },
    {
      "cell_type": "code",
      "metadata": {
        "id": "frozen-charles"
      },
      "source": [
        "train_inputs"
      ],
      "id": "frozen-charles",
      "execution_count": null,
      "outputs": []
    },
    {
      "cell_type": "code",
      "metadata": {
        "id": "adjacent-firmware"
      },
      "source": [
        "train_targets"
      ],
      "id": "adjacent-firmware",
      "execution_count": null,
      "outputs": []
    },
    {
      "cell_type": "code",
      "metadata": {
        "id": "clean-holder"
      },
      "source": [
        "val_inputs"
      ],
      "id": "clean-holder",
      "execution_count": null,
      "outputs": []
    },
    {
      "cell_type": "code",
      "metadata": {
        "id": "attended-wireless"
      },
      "source": [
        "val_targets"
      ],
      "id": "attended-wireless",
      "execution_count": null,
      "outputs": []
    },
    {
      "cell_type": "markdown",
      "metadata": {
        "id": "blind-prior"
      },
      "source": [
        "Let's save our work before continuing."
      ],
      "id": "blind-prior"
    },
    {
      "cell_type": "code",
      "metadata": {
        "id": "patent-occasion"
      },
      "source": [
        "jovian.commit()"
      ],
      "id": "patent-occasion",
      "execution_count": null,
      "outputs": []
    },
    {
      "cell_type": "markdown",
      "metadata": {
        "id": "sublime-factor"
      },
      "source": [
        "## Step 3 - Train a Linear Regression Model\n",
        "\n",
        "We're now ready to train the model. Linear regression is a commonly used technique for solving [regression problems](https://jovian.ai/aakashns/python-sklearn-logistic-regression/v/66#C6). In a linear regression model, the target is modeled as a linear combination (or weighted sum) of input features. The predictions from the model are evaluated using a loss function like the Root Mean Squared Error (RMSE).\n",
        "\n",
        "\n",
        "Here's a visual summary of how a linear regression model is structured:\n",
        "\n",
        "<img src=\"https://i.imgur.com/iTM2s5k.png\" width=\"480\">\n",
        "\n",
        "However, linear regression doesn't generalize very well when we have a large number of input columns with co-linearity i.e. when the values one column are highly correlated with values in other column(s). This is because it tries to fit the training data perfectly. \n",
        "\n",
        "Instead, we'll use Ridge Regression, a variant of linear regression that uses a technique called L2 regularization to introduce another loss term that forces the model to generalize better. Learn more about ridge regression here: https://www.youtube.com/watch?v=Q81RR3yKn30"
      ],
      "id": "sublime-factor"
    },
    {
      "cell_type": "markdown",
      "metadata": {
        "id": "flush-combine"
      },
      "source": [
        "> **QUESTION 8**: Create and train a linear regression model using the `Ridge` class from `sklearn.linear_model`."
      ],
      "id": "flush-combine"
    },
    {
      "cell_type": "code",
      "metadata": {
        "id": "revolutionary-eligibility"
      },
      "source": [
        "from sklearn.linear_model import Ridge"
      ],
      "id": "revolutionary-eligibility",
      "execution_count": null,
      "outputs": []
    },
    {
      "cell_type": "code",
      "metadata": {
        "id": "unlikely-flavor"
      },
      "source": [
        "# Create the model\n",
        "model = ???"
      ],
      "id": "unlikely-flavor",
      "execution_count": null,
      "outputs": []
    },
    {
      "cell_type": "code",
      "metadata": {
        "id": "documented-laundry"
      },
      "source": [
        "# Fit the model using inputs and targets\n",
        "???"
      ],
      "id": "documented-laundry",
      "execution_count": null,
      "outputs": []
    },
    {
      "cell_type": "markdown",
      "metadata": {
        "id": "finished-attribute"
      },
      "source": [
        "`model.fit` uses the following strategy for training the model (source):\n",
        "\n",
        "1. We initialize a model with random parameters (weights & biases).\n",
        "2. We pass some inputs into the model to obtain predictions.\n",
        "3. We compare the model's predictions with the actual targets using the loss function.\n",
        "4. We use an optimization technique (like least squares, gradient descent etc.) to reduce the loss by adjusting the weights & biases of the model\n",
        "5. We repeat steps 1 to 4 till the predictions from the model are good enough.\n",
        "\n",
        "<img src=\"https://www.deepnetts.com/blog/wp-content/uploads/2019/02/SupervisedLearning.png\" width=\"480\">"
      ],
      "id": "finished-attribute"
    },
    {
      "cell_type": "markdown",
      "metadata": {
        "id": "forward-means"
      },
      "source": [
        "Let's save our work before continuing."
      ],
      "id": "forward-means"
    },
    {
      "cell_type": "code",
      "metadata": {
        "id": "disciplinary-airport"
      },
      "source": [
        "jovian.commit()"
      ],
      "id": "disciplinary-airport",
      "execution_count": null,
      "outputs": []
    },
    {
      "cell_type": "markdown",
      "metadata": {
        "id": "rapid-somewhere"
      },
      "source": [
        "## Step 4 - Make Predictions and Evaluate Your Model\n",
        "\n",
        "The model is now trained, and we can use it to generate predictions for the training and validation inputs. We can evaluate the model's performance using the RMSE (root mean squared error) loss function."
      ],
      "id": "rapid-somewhere"
    },
    {
      "cell_type": "markdown",
      "metadata": {
        "id": "incredible-magazine"
      },
      "source": [
        "> **QUESTION 9**: Generate predictions and compute the RMSE loss for the training and validation sets. \n",
        "> \n",
        "> *Hint*: Use the `mean_squared_error` with the argument `squared=False` to compute RMSE loss."
      ],
      "id": "incredible-magazine"
    },
    {
      "cell_type": "code",
      "metadata": {
        "id": "instant-welding"
      },
      "source": [
        "from sklearn.metrics import mean_squared_error"
      ],
      "id": "instant-welding",
      "execution_count": null,
      "outputs": []
    },
    {
      "cell_type": "code",
      "metadata": {
        "id": "retired-algeria"
      },
      "source": [
        "train_preds = ???"
      ],
      "id": "retired-algeria",
      "execution_count": null,
      "outputs": []
    },
    {
      "cell_type": "code",
      "metadata": {
        "id": "moderate-lindsay"
      },
      "source": [
        "train_preds"
      ],
      "id": "moderate-lindsay",
      "execution_count": null,
      "outputs": []
    },
    {
      "cell_type": "code",
      "metadata": {
        "id": "ranging-blade"
      },
      "source": [
        "train_rmse = ???"
      ],
      "id": "ranging-blade",
      "execution_count": null,
      "outputs": []
    },
    {
      "cell_type": "code",
      "metadata": {
        "id": "focal-purpose"
      },
      "source": [
        "print('The RMSE loss for the training set is $ {}.'.format(train_rmse))"
      ],
      "id": "focal-purpose",
      "execution_count": null,
      "outputs": []
    },
    {
      "cell_type": "code",
      "metadata": {
        "id": "cultural-consortium"
      },
      "source": [
        "val_preds = ???"
      ],
      "id": "cultural-consortium",
      "execution_count": null,
      "outputs": []
    },
    {
      "cell_type": "code",
      "metadata": {
        "id": "printable-shooting"
      },
      "source": [
        "val_preds"
      ],
      "id": "printable-shooting",
      "execution_count": null,
      "outputs": []
    },
    {
      "cell_type": "code",
      "metadata": {
        "id": "alternate-defendant"
      },
      "source": [
        "val_rmse = ???"
      ],
      "id": "alternate-defendant",
      "execution_count": null,
      "outputs": []
    },
    {
      "cell_type": "code",
      "metadata": {
        "id": "hidden-literacy"
      },
      "source": [
        "print('The RMSE loss for the validation set is $ {}.'.format(val_rmse))"
      ],
      "id": "hidden-literacy",
      "execution_count": null,
      "outputs": []
    },
    {
      "cell_type": "markdown",
      "metadata": {
        "id": "russian-beginning"
      },
      "source": [
        "### Feature Importance\n",
        "\n",
        "Let's look at the weights assigned to different columns, to figure out which columns in the dataset are the most important."
      ],
      "id": "russian-beginning"
    },
    {
      "cell_type": "markdown",
      "metadata": {
        "id": "mighty-complaint"
      },
      "source": [
        "> **QUESTION 10**: Identify the weights (or coefficients) assigned to for different features by the model.\n",
        "> \n",
        "> *Hint:* Read [the docs](https://scikit-learn.org/stable/modules/generated/sklearn.linear_model.LinearRegression.html)."
      ],
      "id": "mighty-complaint"
    },
    {
      "cell_type": "code",
      "metadata": {
        "id": "contrary-enforcement"
      },
      "source": [
        "weights = ???"
      ],
      "id": "contrary-enforcement",
      "execution_count": null,
      "outputs": []
    },
    {
      "cell_type": "markdown",
      "metadata": {
        "id": "raised-tamil"
      },
      "source": [
        "Let's create a dataframe to view the weight assigned to each column."
      ],
      "id": "raised-tamil"
    },
    {
      "cell_type": "code",
      "metadata": {
        "id": "chief-subdivision"
      },
      "source": [
        "weights_df = pd.DataFrame({\n",
        "    'columns': train_inputs.columns,\n",
        "    'weight': weights\n",
        "}).sort_values('weight', ascending=False)"
      ],
      "id": "chief-subdivision",
      "execution_count": null,
      "outputs": []
    },
    {
      "cell_type": "code",
      "metadata": {
        "id": "indirect-desire"
      },
      "source": [
        "weights_df"
      ],
      "id": "indirect-desire",
      "execution_count": null,
      "outputs": []
    },
    {
      "cell_type": "markdown",
      "metadata": {
        "id": "persistent-collection"
      },
      "source": [
        "Can you tell which columns have the greatest impact on the price of the house?"
      ],
      "id": "persistent-collection"
    },
    {
      "cell_type": "markdown",
      "metadata": {
        "id": "destroyed-walter"
      },
      "source": [
        "### Making Predictions\n",
        "\n",
        "The model can be used to make predictions on new inputs using the following helper function:"
      ],
      "id": "destroyed-walter"
    },
    {
      "cell_type": "code",
      "metadata": {
        "id": "pressing-ridge"
      },
      "source": [
        "def predict_input(single_input):\n",
        "    input_df = pd.DataFrame([single_input])\n",
        "    input_df[numeric_cols] = imputer.transform(input_df[numeric_cols])\n",
        "    input_df[numeric_cols] = scaler.transform(input_df[numeric_cols])\n",
        "    input_df[encoded_cols] = encoder.transform(input_df[categorical_cols].values)\n",
        "    X_input = input_df[numeric_cols + encoded_cols]\n",
        "    return model.predict(X_input)[0]"
      ],
      "id": "pressing-ridge",
      "execution_count": null,
      "outputs": []
    },
    {
      "cell_type": "code",
      "metadata": {
        "id": "chronic-chemistry"
      },
      "source": [
        "sample_input = { 'MSSubClass': 20, 'MSZoning': 'RL', 'LotFrontage': 77.0, 'LotArea': 9320,\n",
        " 'Street': 'Pave', 'Alley': None, 'LotShape': 'IR1', 'LandContour': 'Lvl', 'Utilities': 'AllPub',\n",
        " 'LotConfig': 'Inside', 'LandSlope': 'Gtl', 'Neighborhood': 'NAmes', 'Condition1': 'Norm', 'Condition2': 'Norm',\n",
        " 'BldgType': '1Fam', 'HouseStyle': '1Story', 'OverallQual': 4, 'OverallCond': 5, 'YearBuilt': 1959,\n",
        " 'YearRemodAdd': 1959, 'RoofStyle': 'Gable', 'RoofMatl': 'CompShg', 'Exterior1st': 'Plywood',\n",
        " 'Exterior2nd': 'Plywood', 'MasVnrType': 'None','MasVnrArea': 0.0,'ExterQual': 'TA','ExterCond': 'TA',\n",
        " 'Foundation': 'CBlock','BsmtQual': 'TA','BsmtCond': 'TA','BsmtExposure': 'No','BsmtFinType1': 'ALQ',\n",
        " 'BsmtFinSF1': 569,'BsmtFinType2': 'Unf','BsmtFinSF2': 0,'BsmtUnfSF': 381,\n",
        " 'TotalBsmtSF': 950,'Heating': 'GasA','HeatingQC': 'Fa','CentralAir': 'Y','Electrical': 'SBrkr', '1stFlrSF': 1225,\n",
        " '2ndFlrSF': 0, 'LowQualFinSF': 0, 'GrLivArea': 1225, 'BsmtFullBath': 1, 'BsmtHalfBath': 0, 'FullBath': 1,\n",
        " 'HalfBath': 1, 'BedroomAbvGr': 3, 'KitchenAbvGr': 1,'KitchenQual': 'TA','TotRmsAbvGrd': 6,'Functional': 'Typ',\n",
        " 'Fireplaces': 0,'FireplaceQu': np.nan,'GarageType': np.nan,'GarageYrBlt': np.nan,'GarageFinish': np.nan,'GarageCars': 0,\n",
        " 'GarageArea': 0,'GarageQual': np.nan,'GarageCond': np.nan,'PavedDrive': 'Y', 'WoodDeckSF': 352, 'OpenPorchSF': 0,\n",
        " 'EnclosedPorch': 0,'3SsnPorch': 0, 'ScreenPorch': 0, 'PoolArea': 0, 'PoolQC': np.nan, 'Fence': np.nan, 'MiscFeature': 'Shed',\n",
        " 'MiscVal': 400, 'MoSold': 1, 'YrSold': 2010, 'SaleType': 'WD', 'SaleCondition': 'Normal'}"
      ],
      "id": "chronic-chemistry",
      "execution_count": null,
      "outputs": []
    },
    {
      "cell_type": "code",
      "metadata": {
        "id": "advanced-positive"
      },
      "source": [
        "predicted_price = predict_input(sample_input)"
      ],
      "id": "advanced-positive",
      "execution_count": null,
      "outputs": []
    },
    {
      "cell_type": "code",
      "metadata": {
        "id": "stock-designation"
      },
      "source": [
        "print('The predicted sale price of the house is ${}'.format(predicted_price))"
      ],
      "id": "stock-designation",
      "execution_count": null,
      "outputs": []
    },
    {
      "cell_type": "markdown",
      "metadata": {
        "id": "empty-drive"
      },
      "source": [
        "Change the values in `sample_input` above and observe the effects on the predicted price. "
      ],
      "id": "empty-drive"
    },
    {
      "cell_type": "markdown",
      "metadata": {
        "id": "geological-mineral"
      },
      "source": [
        "### Saving the model\n",
        "\n",
        "Let's save the model (along with other useful objects) to disk, so that we use it for making predictions without retraining."
      ],
      "id": "geological-mineral"
    },
    {
      "cell_type": "code",
      "metadata": {
        "id": "steady-reynolds"
      },
      "source": [
        "import joblib"
      ],
      "id": "steady-reynolds",
      "execution_count": null,
      "outputs": []
    },
    {
      "cell_type": "code",
      "metadata": {
        "id": "bibliographic-hardware"
      },
      "source": [
        "house_price_predictor = {\n",
        "    'model': model,\n",
        "    'imputer': imputer,\n",
        "    'scaler': scaler,\n",
        "    'encoder': encoder,\n",
        "    'input_cols': input_cols,\n",
        "    'target_col': target_col,\n",
        "    'numeric_cols': numeric_cols,\n",
        "    'categorical_cols': categorical_cols,\n",
        "    'encoded_cols': encoded_cols\n",
        "}"
      ],
      "id": "bibliographic-hardware",
      "execution_count": null,
      "outputs": []
    },
    {
      "cell_type": "code",
      "metadata": {
        "id": "african-corrections"
      },
      "source": [
        "joblib.dump(house_price_predictor, 'house_price_predictor.joblib')"
      ],
      "id": "african-corrections",
      "execution_count": null,
      "outputs": []
    },
    {
      "cell_type": "markdown",
      "metadata": {
        "id": "structured-english"
      },
      "source": [
        "Congratulations on training and evaluating your first machine learning model using `scikit-learn`! Let's save our work before continuing. We'll include the saved model as an output."
      ],
      "id": "structured-english"
    },
    {
      "cell_type": "code",
      "metadata": {
        "id": "sunset-acrobat"
      },
      "source": [
        "jovian.commit(outputs=['house_price_predictor.joblib'])"
      ],
      "id": "sunset-acrobat",
      "execution_count": null,
      "outputs": []
    },
    {
      "cell_type": "markdown",
      "metadata": {
        "id": "liable-tracker"
      },
      "source": [
        "## Make Submission\n",
        "\n",
        "To make a submission, just execute the following cell:"
      ],
      "id": "liable-tracker"
    },
    {
      "cell_type": "code",
      "metadata": {
        "id": "photographic-potato"
      },
      "source": [
        "jovian.submit('zerotogbms-a1')"
      ],
      "id": "photographic-potato",
      "execution_count": null,
      "outputs": []
    },
    {
      "cell_type": "markdown",
      "metadata": {
        "id": "developmental-association"
      },
      "source": [
        "You can also submit your Jovian notebook link on the assignment page: https://jovian.ai/learn/machine-learning-with-python-zero-to-gbms/assignment/assignment-1-train-your-first-ml-model\n",
        "\n",
        "Make sure to review the evaluation criteria carefully. You can make any number of submissions, and only your final submission will be evalauted.\n",
        "\n",
        "Ask questions, discuss ideas and get help here: https://jovian.ai/forum/c/zero-to-gbms/gbms-assignment-1/100\n"
      ],
      "id": "developmental-association"
    }
  ]
}